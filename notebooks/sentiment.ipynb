{
 "cells": [
  {
   "cell_type": "code",
   "execution_count": 22,
   "id": "e40f3073-aa81-4c0b-8903-faa3eda2f614",
   "metadata": {},
   "outputs": [
    {
     "name": "stderr",
     "output_type": "stream",
     "text": [
      "Some weights of the model checkpoint at cardiffnlp/twitter-roberta-base-sentiment-latest were not used when initializing RobertaForSequenceClassification: ['roberta.pooler.dense.bias', 'roberta.pooler.dense.weight']\n",
      "- This IS expected if you are initializing RobertaForSequenceClassification from the checkpoint of a model trained on another task or with another architecture (e.g. initializing a BertForSequenceClassification model from a BertForPreTraining model).\n",
      "- This IS NOT expected if you are initializing RobertaForSequenceClassification from the checkpoint of a model that you expect to be exactly identical (initializing a BertForSequenceClassification model from a BertForSequenceClassification model).\n"
     ]
    }
   ],
   "source": [
    "from transformers import AutoModelForSequenceClassification, AutoTokenizer\n",
    "import torch\n",
    "\n",
    "# Load model and tokenizer\n",
    "model_name = \"cardiffnlp/twitter-roberta-base-sentiment-latest\"\n",
    "model = AutoModelForSequenceClassification.from_pretrained(model_name)\n",
    "tokenizer = AutoTokenizer.from_pretrained(model_name)\n",
    "\n",
    "def preprocess_tweet(tweet):\n",
    "    # Implement your tweet preprocessing logic here\n",
    "    return tweet\n",
    "\n",
    "def analyze_sentiment(tweet):\n",
    "    inputs = tokenizer(tweet, return_tensors=\"pt\", padding=True, truncation=True)\n",
    "    outputs = model(**inputs)\n",
    "    scores = outputs.logits\n",
    "    return torch.softmax(scores, dim=1).detach().numpy()[0]\n",
    "\n",
    "def scale_score(probabilities):\n",
    "    # Assuming probabilities order: [Negative, Neutral, Positive]\n",
    "    neg, neu, pos = probabilities\n",
    "    # Weighted score: Negative scores contribute negatively, positive scores contribute positively\n",
    "    scaled_score = neg * (-10) + neu * 0 + pos * 10\n",
    "    return scaled_score\n",
    "\n",
    "\n",
    "# Example usage\n",
    "def get_sentiment(tweet):\n",
    "    preprocessed_tweet = preprocess_tweet(tweet)\n",
    "    model_score = analyze_sentiment(preprocessed_tweet)\n",
    "    scaled_score = scale_score(model_score)\n",
    "    return scaled_score"
   ]
  },
  {
   "cell_type": "code",
   "execution_count": 23,
   "id": "a49c5d26-cb25-442b-9a3d-c13bdd72be90",
   "metadata": {},
   "outputs": [
    {
     "name": "stderr",
     "output_type": "stream",
     "text": [
      "Asking to truncate to max_length but no maximum length is provided and the model has no predefined maximum length. Default to no truncation.\n"
     ]
    },
    {
     "data": {
      "text/plain": [
       "3.255305737257004"
      ]
     },
     "execution_count": 23,
     "metadata": {},
     "output_type": "execute_result"
    }
   ],
   "source": [
    "get_sentiment(\"hello\")"
   ]
  },
  {
   "cell_type": "code",
   "execution_count": null,
   "id": "8abe4d31-efbc-438e-b35b-089e1f6b5fc9",
   "metadata": {},
   "outputs": [],
   "source": []
  }
 ],
 "metadata": {
  "kernelspec": {
   "display_name": "Python 3 (ipykernel)",
   "language": "python",
   "name": "python3"
  },
  "language_info": {
   "codemirror_mode": {
    "name": "ipython",
    "version": 3
   },
   "file_extension": ".py",
   "mimetype": "text/x-python",
   "name": "python",
   "nbconvert_exporter": "python",
   "pygments_lexer": "ipython3",
   "version": "3.11.5"
  }
 },
 "nbformat": 4,
 "nbformat_minor": 5
}
